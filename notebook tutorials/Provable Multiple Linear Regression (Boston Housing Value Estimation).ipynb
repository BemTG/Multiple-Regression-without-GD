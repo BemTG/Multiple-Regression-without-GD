{
 "cells": [
  {
   "cell_type": "markdown",
   "id": "97bdc270",
   "metadata": {},
   "source": [
    "# Import necessary libs & prepare dataset"
   ]
  },
  {
   "cell_type": "code",
   "execution_count": 1,
   "id": "ae4ed5fb",
   "metadata": {},
   "outputs": [],
   "source": [
    "import numpy as np\n",
    "import pandas as pd\n",
    "import matplotlib.pyplot as plt\n",
    "import pandas as pd\n",
    "import os\n",
    "from sklearn.metrics import r2_score"
   ]
  },
  {
   "cell_type": "code",
   "execution_count": 2,
   "id": "4768aa34",
   "metadata": {
    "scrolled": true
   },
   "outputs": [
    {
     "data": {
      "text/html": [
       "<div>\n",
       "<style scoped>\n",
       "    .dataframe tbody tr th:only-of-type {\n",
       "        vertical-align: middle;\n",
       "    }\n",
       "\n",
       "    .dataframe tbody tr th {\n",
       "        vertical-align: top;\n",
       "    }\n",
       "\n",
       "    .dataframe thead th {\n",
       "        text-align: right;\n",
       "    }\n",
       "</style>\n",
       "<table border=\"1\" class=\"dataframe\">\n",
       "  <thead>\n",
       "    <tr style=\"text-align: right;\">\n",
       "      <th></th>\n",
       "      <th>CRIM</th>\n",
       "      <th>ZN</th>\n",
       "      <th>INDUS</th>\n",
       "      <th>CHAS</th>\n",
       "      <th>NOX</th>\n",
       "      <th>RM</th>\n",
       "      <th>AGE</th>\n",
       "      <th>DIS</th>\n",
       "      <th>RAD</th>\n",
       "      <th>TAX</th>\n",
       "      <th>PTRATIO</th>\n",
       "      <th>MEDV</th>\n",
       "    </tr>\n",
       "  </thead>\n",
       "  <tbody>\n",
       "    <tr>\n",
       "      <th>0</th>\n",
       "      <td>0.40771</td>\n",
       "      <td>0.0</td>\n",
       "      <td>6.20</td>\n",
       "      <td>1</td>\n",
       "      <td>0.507</td>\n",
       "      <td>6.164</td>\n",
       "      <td>91.3</td>\n",
       "      <td>3.0480</td>\n",
       "      <td>8</td>\n",
       "      <td>307</td>\n",
       "      <td>17.4</td>\n",
       "      <td>21.7</td>\n",
       "    </tr>\n",
       "    <tr>\n",
       "      <th>1</th>\n",
       "      <td>0.26838</td>\n",
       "      <td>0.0</td>\n",
       "      <td>9.69</td>\n",
       "      <td>0</td>\n",
       "      <td>0.585</td>\n",
       "      <td>5.794</td>\n",
       "      <td>70.6</td>\n",
       "      <td>2.8927</td>\n",
       "      <td>6</td>\n",
       "      <td>391</td>\n",
       "      <td>19.2</td>\n",
       "      <td>18.3</td>\n",
       "    </tr>\n",
       "    <tr>\n",
       "      <th>2</th>\n",
       "      <td>0.05360</td>\n",
       "      <td>21.0</td>\n",
       "      <td>5.64</td>\n",
       "      <td>0</td>\n",
       "      <td>0.439</td>\n",
       "      <td>6.511</td>\n",
       "      <td>21.1</td>\n",
       "      <td>6.8147</td>\n",
       "      <td>4</td>\n",
       "      <td>243</td>\n",
       "      <td>16.8</td>\n",
       "      <td>25.0</td>\n",
       "    </tr>\n",
       "    <tr>\n",
       "      <th>3</th>\n",
       "      <td>11.16040</td>\n",
       "      <td>0.0</td>\n",
       "      <td>18.10</td>\n",
       "      <td>0</td>\n",
       "      <td>0.740</td>\n",
       "      <td>6.629</td>\n",
       "      <td>94.6</td>\n",
       "      <td>2.1247</td>\n",
       "      <td>24</td>\n",
       "      <td>666</td>\n",
       "      <td>20.2</td>\n",
       "      <td>13.4</td>\n",
       "    </tr>\n",
       "    <tr>\n",
       "      <th>4</th>\n",
       "      <td>2.31390</td>\n",
       "      <td>0.0</td>\n",
       "      <td>19.58</td>\n",
       "      <td>0</td>\n",
       "      <td>0.605</td>\n",
       "      <td>5.880</td>\n",
       "      <td>97.3</td>\n",
       "      <td>2.3887</td>\n",
       "      <td>5</td>\n",
       "      <td>403</td>\n",
       "      <td>14.7</td>\n",
       "      <td>19.1</td>\n",
       "    </tr>\n",
       "  </tbody>\n",
       "</table>\n",
       "</div>"
      ],
      "text/plain": [
       "       CRIM    ZN  INDUS  CHAS    NOX     RM   AGE     DIS  RAD  TAX  PTRATIO  \\\n",
       "0   0.40771   0.0   6.20     1  0.507  6.164  91.3  3.0480    8  307     17.4   \n",
       "1   0.26838   0.0   9.69     0  0.585  5.794  70.6  2.8927    6  391     19.2   \n",
       "2   0.05360  21.0   5.64     0  0.439  6.511  21.1  6.8147    4  243     16.8   \n",
       "3  11.16040   0.0  18.10     0  0.740  6.629  94.6  2.1247   24  666     20.2   \n",
       "4   2.31390   0.0  19.58     0  0.605  5.880  97.3  2.3887    5  403     14.7   \n",
       "\n",
       "   MEDV  \n",
       "0  21.7  \n",
       "1  18.3  \n",
       "2  25.0  \n",
       "3  13.4  \n",
       "4  19.1  "
      ]
     },
     "execution_count": 2,
     "metadata": {},
     "output_type": "execute_result"
    }
   ],
   "source": [
    "df = pd.read_csv(\"boston_dataset.csv\")\n",
    "df.drop('Unnamed: 0', axis=1, inplace=True)\n",
    "\n",
    "df.head()\n",
    "\n"
   ]
  },
  {
   "cell_type": "code",
   "execution_count": 3,
   "id": "c88f769e",
   "metadata": {},
   "outputs": [
    {
     "name": "stdout",
     "output_type": "stream",
     "text": [
      "(50, 12)\n"
     ]
    }
   ],
   "source": [
    "print(df.shape)"
   ]
  },
  {
   "cell_type": "markdown",
   "id": "66a093ca",
   "metadata": {},
   "source": [
    "##### Column features\n",
    "• CRIM per capita crime rate by town <br>\n",
    "• ZN proportion of residential land zoned for lots over 25,000 sq.ft. <br>\n",
    "• INDUS proportion of non-retail business acres per town <br>\n",
    "• CHAS Charles River dummy variable (= 1 if tract bounds river; 0 otherwise)<br>\n",
    "• NOX nitric oxides concentration (parts per 10 million) <br>\n",
    "• RM average number of rooms per dwelling <br>\n",
    "• AGE proportion of owner-occupied units built prior to 1940 <br>\n",
    "• DIS weighted distances to five Boston employment centres <br>\n",
    "• RAD index of accessibility to radial highways <br>\n",
    "• TAX full-value property-tax rate per 10,000 dollars <br>\n",
    "• PTRATIO pupil-teacher ratio by town <br>\n",
    "• MEDV Median value of owner-occupied homes in $1000's <br>\n"
   ]
  },
  {
   "cell_type": "code",
   "execution_count": 4,
   "id": "a3d9d8b1",
   "metadata": {},
   "outputs": [
    {
     "name": "stdout",
     "output_type": "stream",
     "text": [
      "(50, 11)\n",
      "(50,)\n"
     ]
    }
   ],
   "source": [
    "features = df.drop(['MEDV',], axis=1)\n",
    "target = df['MEDV']\n",
    "\n",
    "#convert to numpy\n",
    "X_original = features.to_numpy()\n",
    "Y_original = target.to_numpy()\n",
    "\n",
    "print(X_original.shape)\n",
    "print(Y_original.shape)"
   ]
  },
  {
   "cell_type": "markdown",
   "id": "fc086887",
   "metadata": {},
   "source": [
    "## Normalize the dataset"
   ]
  },
  {
   "cell_type": "code",
   "execution_count": 5,
   "id": "587dcfb9",
   "metadata": {},
   "outputs": [],
   "source": [
    "# Normalize the data \n",
    "\n",
    "def normalize_data(original_data):\n",
    "    data_min = np.min(original_data, axis=0)\n",
    "    data_max = np.max(original_data, axis=0)\n",
    "    data_range = data_max - data_min\n",
    "    data_normalized =  (original_data - data_min) / data_range\n",
    "    \n",
    "    return data_normalized"
   ]
  },
  {
   "cell_type": "code",
   "execution_count": 6,
   "id": "fd6c797f",
   "metadata": {},
   "outputs": [],
   "source": [
    "X_normalized= normalize_data(X_original)\n",
    "y_normalized= normalize_data(Y_original)"
   ]
  },
  {
   "cell_type": "markdown",
   "id": "e2bddf32",
   "metadata": {},
   "source": [
    "# Main Multiple Linear Regression algorythm"
   ]
  },
  {
   "cell_type": "code",
   "execution_count": 7,
   "id": "c1fb0d79",
   "metadata": {},
   "outputs": [],
   "source": [
    "def transpose_and_add_bias(feature_data):\n",
    "    #transpose the data\n",
    "    transposed_data= feature_data.T\n",
    "    #add bias term\n",
    "    transposed_data_with_bias = np.vstack((transposed_data, np.ones(transposed_data.shape[1])))\n",
    "    \n",
    "    return transposed_data_with_bias"
   ]
  },
  {
   "cell_type": "code",
   "execution_count": 8,
   "id": "feeab27f",
   "metadata": {},
   "outputs": [],
   "source": [
    "def decorrelate_features(feature_data):\n",
    "\n",
    "    # Make copy of input matrix\n",
    "    x_temp = feature_data.copy()\n",
    "    \n",
    "    # Get number of features\n",
    "    feature_rows = feature_data.shape[0]\n",
    "    \n",
    "    # Decorrelate features\n",
    "    for i in range(feature_rows):\n",
    "        feature_squared = np.sum(x_temp[i]**2)\n",
    "        for j in range(i+1, feature_rows):\n",
    "            feature_cross_prod = np.sum(x_temp[i] * x_temp[j])\n",
    "            if feature_squared == 0:\n",
    "                print('Warning, division by zero encountered and handled')\n",
    "                feature_squared = 1e-8 \n",
    "            feature_grad = feature_cross_prod / feature_squared\n",
    "            x_temp[j] -= feature_grad * x_temp[i]\n",
    "            \n",
    "    decorelated_x_vals = x_temp\n",
    "\n",
    "    return decorelated_x_vals\n"
   ]
  },
  {
   "cell_type": "code",
   "execution_count": 9,
   "id": "617f3d11",
   "metadata": {},
   "outputs": [],
   "source": [
    "def calculate_gradients(decorelated_x_vals, y_values, original_x_features):\n",
    "  \n",
    "    # Initialize gradients array\n",
    "    feature_rows = decorelated_x_vals.shape[0]\n",
    "    gradients = np.zeros(feature_rows)\n",
    "\n",
    "    # Calculate gradients\n",
    "    for i in range(feature_rows-1, -1, -1):\n",
    "        prod = np.sum(y_values * decorelated_x_vals[i])\n",
    "        squared = np.sum(decorelated_x_vals[i] * decorelated_x_vals[i])\n",
    "        if squared == 0:\n",
    "            print('Warning, division by zero encountered and handled')\n",
    "            squared = 1e-8\n",
    "\n",
    "        gradients[i] = prod / squared\n",
    "        y_values -= gradients[i] * original_x_features[i]\n",
    "    \n",
    "\n",
    "    return gradients"
   ]
  },
  {
   "cell_type": "code",
   "execution_count": 10,
   "id": "f07ae5a1",
   "metadata": {},
   "outputs": [
    {
     "name": "stdout",
     "output_type": "stream",
     "text": [
      "Training data shapes:\n",
      "X_normalized: (12, 50)\n",
      "y_normalized: (50,)\n"
     ]
    }
   ],
   "source": [
    "X_normalized_transposed_with_bias = transpose_and_add_bias(X_normalized)\n",
    "\n",
    "print(\"Training data shapes:\")\n",
    "print(\"X_normalized:\", X_normalized_transposed_with_bias.shape)\n",
    "print(\"y_normalized:\", y_normalized.shape)"
   ]
  },
  {
   "cell_type": "code",
   "execution_count": 11,
   "id": "e3a13196",
   "metadata": {},
   "outputs": [],
   "source": [
    "decorrelate_X_features = decorrelate_features(X_normalized_transposed_with_bias)"
   ]
  },
  {
   "cell_type": "code",
   "execution_count": 12,
   "id": "21864d6b",
   "metadata": {},
   "outputs": [],
   "source": [
    "decorrelate_X_features = decorrelate_features(X_normalized_transposed_with_bias)"
   ]
  },
  {
   "cell_type": "code",
   "execution_count": 13,
   "id": "8090dcd8",
   "metadata": {},
   "outputs": [],
   "source": [
    "gradient_values = calculate_gradients(decorrelate_X_features, y_normalized, X_normalized_transposed_with_bias )"
   ]
  },
  {
   "cell_type": "code",
   "execution_count": 14,
   "id": "11b052e5",
   "metadata": {},
   "outputs": [
    {
     "data": {
      "text/plain": [
       "array([ 0.43365324, -0.18175555, -0.42523263,  0.13711559, -0.19621044,\n",
       "       -0.06995875,  0.62886834, -0.08972977, -0.0081258 ,  0.00121573,\n",
       "        0.0482544 ,  0.13295955])"
      ]
     },
     "execution_count": 14,
     "metadata": {},
     "output_type": "execute_result"
    }
   ],
   "source": [
    "real_gradient_values_reversed = np.flip(gradient_values)\n",
    "real_gradient_values_reversed"
   ]
  },
  {
   "cell_type": "code",
   "execution_count": 15,
   "id": "b27055f3",
   "metadata": {},
   "outputs": [
    {
     "data": {
      "text/plain": [
       "array([ 0.13295955,  0.0482544 ,  0.00121573, -0.0081258 , -0.08972977,\n",
       "        0.62886834, -0.06995875, -0.19621044,  0.13711559, -0.42523263,\n",
       "       -0.18175555,  0.43365324])"
      ]
     },
     "execution_count": 15,
     "metadata": {},
     "output_type": "execute_result"
    }
   ],
   "source": [
    "gradient_values"
   ]
  },
  {
   "cell_type": "markdown",
   "id": "4f970ffa",
   "metadata": {},
   "source": [
    "# Reconstructing the y labels using the calculated gradients and X feature data"
   ]
  },
  {
   "cell_type": "code",
   "execution_count": 16,
   "id": "7dab4a56",
   "metadata": {},
   "outputs": [],
   "source": [
    "def denormalize_data(original_data,normalized_data):\n",
    "    \n",
    "    data_min = np.min(original_data)\n",
    "    data_max = np.max(original_data)\n",
    "    data_range = data_max - data_min\n",
    "    \n",
    "    denormalize_data = ( normalized_data * data_range) + data_min\n",
    "    return denormalize_data"
   ]
  },
  {
   "cell_type": "code",
   "execution_count": 17,
   "id": "f3a73a20",
   "metadata": {},
   "outputs": [
    {
     "name": "stdout",
     "output_type": "stream",
     "text": [
      "R^2 score (denormalized): 0.8497719822024984\n"
     ]
    },
    {
     "data": {
      "image/png": "[encoded data removed]",
      "text/plain": [
       "<Figure size 640x480 with 1 Axes>"
      ]
     },
     "metadata": {},
     "output_type": "display_data"
    }
   ],
   "source": [
    "y_pred_norm = gradient_values @ X_normalized_transposed_with_bias #prediction#\n",
    "\n",
    "reconstructed_y = denormalize_data(Y_original,y_pred_norm)\n",
    "\n",
    "# Plot the denormalized y values\n",
    "plt.figure(2)\n",
    "plt.title(\"Denormalized Prediction\")\n",
    "plt.plot(Y_original)\n",
    "plt.plot(reconstructed_y)\n",
    "plt.legend([\"original y values\", \"reconstructed ys\"])\n",
    "\n",
    "# Calculate R^2 score for denormalized prediction\n",
    "accuracy_denormalized = r2_score(Y_original, reconstructed_y)\n",
    "print(\"R^2 score (denormalized):\", accuracy_denormalized)"
   ]
  },
  {
   "cell_type": "markdown",
   "id": "302d8725",
   "metadata": {},
   "source": [
    "# Estimating value of a new property"
   ]
  },
  {
   "cell_type": "code",
   "execution_count": 18,
   "id": "2bfac80e",
   "metadata": {},
   "outputs": [
    {
     "data": {
      "text/plain": [
       "array([  0.40771,   0.     ,   6.2    ,   1.     ,   0.507  ,   6.164  ,\n",
       "        91.3    ,   3.048  ,   8.     , 307.     ,  17.4    ])"
      ]
     },
     "execution_count": 18,
     "metadata": {},
     "output_type": "execute_result"
    }
   ],
   "source": [
    "# 63.61759948730469  --->0.3379058837890625      #6.1999969482421875, 1, 0.506988525390625\n",
    "X_original[0]  #0.015472412109375 0.4076995849609375"
   ]
  },
  {
   "cell_type": "code",
   "execution_count": 19,
   "id": "2fbe2acc",
   "metadata": {},
   "outputs": [
    {
     "name": "stdout",
     "output_type": "stream",
     "text": [
      "0.3628772191870112\n"
     ]
    }
   ],
   "source": [
    "# user_input_feature_values = np.array([9.0771e-01, 5.0000e-01, 1.9500e+01, 1.3200e+00, 9.9000e-01,\n",
    "#        1.2164e+01, 9.1300e+01, 1.1000e+00, 6.0000e+00, 5.0600e+02,\n",
    "#        2.1000e+01])\n",
    "\n",
    "user_input_feature_values = X_original[0]\n",
    "\n",
    "X_min = np.min(X_original, axis=0)\n",
    "X_max = np.max(X_original, axis=0)\n",
    "X_range = X_max - X_min\n",
    "# normalize the feature vals\n",
    "normalized_vals = (user_input_feature_values - X_min) / X_range\n",
    "# add bias term \n",
    "user_input_feature_values_normalized_with_bias = np.append(normalized_vals, 1)\n",
    "\n",
    "# get normalized prediction\n",
    "prediction_normalized = gradient_values @ user_input_feature_values_normalized_with_bias\n",
    "print(prediction_normalized)"
   ]
  },
  {
   "cell_type": "code",
   "execution_count": 20,
   "id": "535f23d1",
   "metadata": {},
   "outputs": [
    {
     "data": {
      "text/plain": [
       "24.32395193323655"
      ]
     },
     "execution_count": 20,
     "metadata": {},
     "output_type": "execute_result"
    }
   ],
   "source": [
    "#denormalize forecast\n",
    "Y_min = np.min(Y_original, axis=0)\n",
    "Y_max = np.max(Y_original, axis=0)\n",
    "Y_range = Y_max - Y_min\n",
    "# rescale prediction\n",
    "denormlized_house_value_estimation =  (prediction_normalized * Y_range) + Y_min\n",
    "denormlized_house_value_estimation"
   ]
  },
  {
   "cell_type": "markdown",
   "id": "ea617854",
   "metadata": {},
   "source": [
    "# Transition to Cairo\n",
    "## Create a scarb project\n",
    "\n",
    "Scarb is the Cairo package manager specifically created to streamline our Cairo and Starknet development process. You can find all information about Scarb and Cairo installation here"
   ]
  },
  {
   "cell_type": "code",
   "execution_count": null,
   "id": "35d4e483",
   "metadata": {},
   "outputs": [],
   "source": [
    "! scarb new multiple_linear_regression"
   ]
  },
  {
   "cell_type": "code",
   "execution_count": null,
   "id": "e4211294",
   "metadata": {},
   "outputs": [],
   "source": [
    "! echo -n > multiple_linear_regression/src/lib.cairo"
   ]
  },
  {
   "cell_type": "markdown",
   "id": "72afd4c8",
   "metadata": {},
   "source": [
    "A new project folder will be created for you and make sure to replace the content in Scarb.toml file with the following code:\n",
    "```toml\n",
    "[package]\n",
    "name = \"multiple_linear_regresion\"\n",
    "version = \"0.1.0\"\n",
    "\n",
    "\n",
    "[dependencies]\n",
    "orion = { git = \"https://github.com/gizatechxyz/onnx-cairo\" }\n",
    "\n",
    "[scripts]\n",
    "test = \"scarb cairo-test -f multiple_linear_regression_test\"\n",
    "```"
   ]
  },
  {
   "cell_type": "code",
   "execution_count": null,
   "id": "2aab745d",
   "metadata": {},
   "outputs": [],
   "source": [
    "# add reference modules to help our code compile at the end\n",
    "%%writefile -a multiple_linear_regression/src/lib.cairo\n",
    "mod test;\n",
    "mod data_preprocessing;\n",
    "mod helper_functions;\n",
    "mod datasets;\n",
    "mod model;"
   ]
  },
  {
   "cell_type": "markdown",
   "id": "2ecade3b",
   "metadata": {},
   "source": [
    "## Generate Cairo files\n"
   ]
  },
  {
   "cell_type": "code",
   "execution_count": null,
   "id": "4192fdf0",
   "metadata": {},
   "outputs": [],
   "source": [
    "# Convert the original data to Cairo \n",
    "\n",
    "\n",
    "def generate_cairo_files(data, name, folder_name):\n",
    "    \n",
    "    os.makedirs(f'multiple_linear_regression/src/datasets/{folder_name}', exist_ok=True)\n",
    "    with open(os.path.join('multiple_linear_regression/src/datasets', f'{folder_name}', f\"{name}.cairo\"), \"w\") as f:\n",
    "            f.write(\n",
    "                \"use array::ArrayTrait;\\n\" +\n",
    "                \"use orion::numbers::fixed_point::implementations::fp16x16::core::{FP16x16Impl, FP16x16PartialEq };\\n\" +\n",
    "                \"use orion::operators::tensor::{Tensor, TensorTrait, FP16x16Tensor};\\n\" +\n",
    "                \"use orion::numbers::{FP16x16, FixedTrait};\\n\\n\" +\n",
    "                \"fn {0}() ->  Tensor<FP16x16>  \".format(name) + \"{\\n\" +\n",
    "                \"    let tensor = TensorTrait::<FP16x16>::new( \\n\"\n",
    "            )\n",
    "            \n",
    "            if len(data.shape)>1:\n",
    "                f.write(\"    shape: array![{0},\".format(data.shape[0]))\n",
    "                f.write(\"{0}].span(),\\n\".format(data.shape[1]))\n",
    "                f.write(\n",
    "                    \"    data: array![ \\n\"\n",
    "                )\n",
    "            if len(data.shape)==1:\n",
    "                f.write(\"    shape: array![{0}].span(),\\n\".format(data.shape[0]))\n",
    "                f.write(\n",
    "                    \"    data: array![ \\n\"\n",
    "                )\n",
    "            for val in np.nditer(data.flatten()):\n",
    "                f.write(\"    FixedTrait::new({0}, {1} ),\\n\".format(abs(int(val * 2**16)), str(val < 0).lower()))\n",
    "            f.write(\n",
    "                \"].span() \\n \\n\" +\n",
    "                \");\\n\\n\"+\n",
    "                \"return tensor; \\n\"+\n",
    "                \"}\"\n",
    "            )\n",
    "    with open(os.path.join('multiple_linear_regression/src/datasets', f'{folder_name}.cairo'), 'a') as f:\n",
    "        f.write(f\"mod {name};\\n\")"
   ]
  },
  {
   "cell_type": "code",
   "execution_count": null,
   "id": "b05daac1",
   "metadata": {},
   "outputs": [],
   "source": [
    "generate_cairo_files(X_original, 'boston_x_features', 'boston_data')\n",
    "generate_cairo_files(Y_original, 'boston_y_labels', 'boston_data') "
   ]
  },
  {
   "cell_type": "code",
   "execution_count": null,
   "id": "30fe7dca",
   "metadata": {},
   "outputs": [],
   "source": [
    "generate_cairo_files(user_input_feature_values, 'user_inputs_boston_data', 'user_inputs_data')"
   ]
  },
  {
   "cell_type": "code",
   "execution_count": null,
   "id": "02e8a2d0",
   "metadata": {},
   "outputs": [],
   "source": [
    "# add reference modules to help our code compile\n",
    "! touch multiple_linear_regression/src/datasets.cairo"
   ]
  },
  {
   "cell_type": "code",
   "execution_count": null,
   "id": "f8cdb5fa",
   "metadata": {},
   "outputs": [],
   "source": [
    "%%writefile multiple_linear_regression/src/datasets.cairo\n",
    "mod boston_data;\n",
    "mod user_inputs_data;"
   ]
  },
  {
   "cell_type": "code",
   "execution_count": null,
   "id": "cd1ca29f",
   "metadata": {},
   "outputs": [],
   "source": [
    "! touch multiple_linear_regression/src/datasets/boston_data.cairo"
   ]
  },
  {
   "cell_type": "code",
   "execution_count": null,
   "id": "4350c425",
   "metadata": {},
   "outputs": [],
   "source": [
    "%%writefile multiple_linear_regression/src/datasets/boston_data.cairo\n",
    "mod boston_x_features;\n",
    "mod boston_y_labels;"
   ]
  },
  {
   "cell_type": "code",
   "execution_count": null,
   "id": "f034a5e0",
   "metadata": {},
   "outputs": [],
   "source": [
    "! touch multiple_linear_regression/src/datasets/user_inputs_data.cairo"
   ]
  },
  {
   "cell_type": "code",
   "execution_count": null,
   "id": "d3235299",
   "metadata": {},
   "outputs": [],
   "source": [
    "%%writefile multiple_linear_regression/src/datasets/user_inputs_data.cairo\n",
    "mod user_inputs_boston_data;"
   ]
  },
  {
   "cell_type": "markdown",
   "id": "ea3dd5d9",
   "metadata": {},
   "source": [
    "## Helper functions \n",
    "\n",
    "We add some helper functions to make it easier to construct our MLR model"
   ]
  },
  {
   "cell_type": "code",
   "execution_count": null,
   "id": "24ae59be",
   "metadata": {},
   "outputs": [],
   "source": [
    "! touch multiple_linear_regression/src/helper_functions.cairo"
   ]
  },
  {
   "cell_type": "code",
   "execution_count": null,
   "id": "a51190ec",
   "metadata": {},
   "outputs": [],
   "source": [
    "%%writefile multiple_linear_regression/src/helper_functions.cairo\n",
    "\n",
    "use debug::PrintTrait;\n",
    "use array::{ArrayTrait, SpanTrait};\n",
    "use orion::operators::tensor::{\n",
    "    Tensor, TensorTrait, FP16x16Tensor, U32Tensor, U32TensorAdd, \n",
    "    FP16x16TensorSub, FP16x16TensorAdd, FP16x16TensorDiv, FP16x16TensorMul};\n",
    "\n",
    "use orion::numbers::{FP16x16,  FixedTrait};\n",
    "\n",
    "\n",
    "\n",
    "// retrieves row data by index in a 2D tensor\n",
    "fn get_tensor_data_by_row(tensor_data: Tensor<FP16x16>, row_index: u32, ) -> Tensor<FP16x16> {\n",
    "    let tensor_shape = tensor_data.shape;\n",
    "    let tensor_column_len= *tensor_shape.at(0);\n",
    "    let tensor_row_len= *tensor_shape.at(1); //13\n",
    "    // crete new array\n",
    "    let mut result = ArrayTrait::<FP16x16>::new();\n",
    "    // loop through the x values and append values \n",
    "    let mut i:u32 = 0;\n",
    "    loop {\n",
    "        if i >= tensor_row_len  {\n",
    "            break();\n",
    "        }\n",
    "        result.append(tensor_data.at(indices: array![row_index,i].span()));\n",
    "        i += 1;\n",
    "        };\n",
    "    let resultant_tensor = TensorTrait::<FP16x16>::new(array![tensor_row_len].span(), data: result.span());\n",
    "    return resultant_tensor;\n",
    "}\n",
    "\n",
    "\n",
    "// transposes tensor\n",
    "fn transpose_tensor(tensor_data: Tensor<FP16x16>) -> Tensor<FP16x16>{\n",
    "    let tensor_transposed = tensor_data.transpose(axes: array![1, 0].span());\n",
    "    return tensor_transposed;\n",
    "}\n",
    "\n",
    "fn calculate_mean(tensor_data: Tensor<FP16x16>) -> FP16x16 {\n",
    "    let tensor_size = FixedTrait::<FP16x16>::new_unscaled(tensor_data.data.len(), false);\n",
    "    let cumulated_sum = tensor_data.cumsum(0, Option::None(()), Option::None(()));\n",
    "    let sum_result = cumulated_sum.data[tensor_data.data.len() - 1];\n",
    "    let mean = *sum_result / tensor_size;\n",
    "    return mean;\n",
    "}\n",
    "\n",
    "// Calculates the R-Squared score between two tensors.\n",
    "fn calculate_r_score(Y_values: Tensor<FP16x16>, Y_pred_values: Tensor<FP16x16>) -> FP16x16 {\n",
    "    let mean_y_value = calculate_mean(Y_values);\n",
    "    // creating the appropriate tensor shapes and empty arrays to populate values into\n",
    "    let mut squared_diff_shape = array::ArrayTrait::new();\n",
    "    squared_diff_shape.append(Y_values.data.len());\n",
    "    let mut squared_diff_vals = array::ArrayTrait::new();\n",
    "    let mut squared_mean_diff_shape = array::ArrayTrait::new();\n",
    "    squared_mean_diff_shape.append(Y_values.data.len());\n",
    "    let mut squared_mean_diff_vals = array::ArrayTrait::new();\n",
    "\n",
    "    let mut i: u32 = 0;\n",
    "    loop {\n",
    "        if i >= Y_values.data.len() {\n",
    "            break ();\n",
    "        }\n",
    "        let diff_pred = *Y_values.data.at(i) - *Y_pred_values.data.at(i);\n",
    "        let squared_diff = diff_pred * diff_pred;\n",
    "        squared_diff_vals.append(squared_diff);\n",
    "\n",
    "        let diff_mean = *Y_values.data.at(i) - mean_y_value;\n",
    "        let squared_mean_diff = diff_mean * diff_mean;\n",
    "        squared_mean_diff_vals.append(squared_mean_diff);\n",
    "        i += 1;\n",
    "    };\n",
    "    let squared_diff_tensor = TensorTrait::<FP16x16>::new(\n",
    "        squared_diff_shape.span(), squared_diff_vals.span()\n",
    "    );\n",
    "    let squared_mean_diff_tensor = TensorTrait::<FP16x16>::new(\n",
    "        squared_mean_diff_shape.span(), squared_mean_diff_vals.span()\n",
    "    );\n",
    "    let sum_squared_diff = squared_diff_tensor.cumsum(0, Option::None(()), Option::None(()));\n",
    "    let sum_squared_mean_diff = squared_mean_diff_tensor.cumsum(0, Option::None(()), Option::None(()));\n",
    "    let r_score = FixedTrait::new_unscaled(1, false)\n",
    "        - *sum_squared_diff.data.at(Y_values.data.len() - 1)\n",
    "            / *sum_squared_mean_diff.data.at(Y_values.data.len() - 1);\n",
    "\n",
    "    return r_score;\n",
    "}\n",
    "\n",
    "\n",
    "\n",
    "// computes the x_min, x_max and x_range. Used for helping in normalizing and denormalizing user inputed values operations\n",
    "fn normalize_user_x_inputs(x_inputs:Tensor<FP16x16>, original_x_values: Tensor<FP16x16>) -> Tensor<FP16x16> {\n",
    "    let mut x_inputs_normalized =   TensorTrait::<FP16x16>::new(shape: array![1].span(), data: array![FixedTrait::new(10, false)].span());\n",
    "\n",
    "    let mut x_min= ArrayTrait::<FP16x16>::new();\n",
    "    let mut x_max= ArrayTrait::<FP16x16>::new();\n",
    "    let mut x_range= ArrayTrait::<FP16x16>::new();\n",
    "    let mut result= ArrayTrait::<FP16x16>::new();\n",
    "\n",
    "    if original_x_values.shape.len()>1{ \n",
    "\n",
    "    let transposed_tensor =  original_x_values.transpose(axes: array![1, 0].span());\n",
    "    let data_len= *transposed_tensor.shape.at(0); //13\n",
    "    // loop through each row calculating the min, max and range row values for each feature columns\n",
    "    let mut i :u32  = 0;\n",
    "    loop{\n",
    "        if i >= data_len {\n",
    "            break();\n",
    "        }\n",
    "        let mut transposed_tensor_row = get_tensor_data_by_row(transposed_tensor, i);\n",
    "        x_min.append(transposed_tensor_row.min_in_tensor());\n",
    "        x_max.append(transposed_tensor_row.max_in_tensor());\n",
    "        x_range.append(transposed_tensor_row.max_in_tensor() - transposed_tensor_row.min_in_tensor());\n",
    "        i+=1;\n",
    "    };\n",
    "    let mut x_min_tensor= TensorTrait::new(shape: array![data_len].span(), data: x_min.span());\n",
    "    let mut x_max_tensor= TensorTrait::new(shape: array![data_len].span(), data: x_max.span());\n",
    "    let mut x_range_tensor= TensorTrait::new(shape: array![data_len].span(), data: x_range.span());\n",
    "\n",
    "    // for normalizing 2D user inputed feature vals\n",
    "    if x_inputs.shape.len()>1{ \n",
    "    let mut j:u32 = 0;\n",
    "    loop{\n",
    "        if j >= *x_inputs.shape.at(0) {\n",
    "            break();\n",
    "        };\n",
    "        let mut row_data = get_tensor_data_by_row(x_inputs, j);\n",
    "        let mut norm_row_data = (row_data - x_min_tensor) / x_range_tensor;\n",
    "        let mut k:u32 =0;\n",
    "        loop{\n",
    "\n",
    "            if k >= norm_row_data.data.len() {\n",
    "            break();\n",
    "        };\n",
    "         result.append(*norm_row_data.data.at(k));\n",
    "        k+=1;\n",
    "        };\n",
    "    j+=1;\n",
    "    };\n",
    "    x_inputs_normalized = TensorTrait::<FP16x16>::new(array![*x_inputs.shape.at(0), *x_inputs.shape.at(1)].span(), data: result.span());\n",
    "    \n",
    "     };\n",
    "\n",
    "    // for normalizing 1D feature input\n",
    "    if x_inputs.shape.len()==1{\n",
    "    x_inputs_normalized = (x_inputs - x_min_tensor) / x_range_tensor;\n",
    "    };\n",
    "\n",
    "    }\n",
    "\n",
    "    if original_x_values.shape.len()==1{\n",
    "        let mut  x_min_tensor = TensorTrait::<FP16x16>::new(shape: array![1].span(), data: array![original_x_values.min_in_tensor()].span());\n",
    "        let mut x_max_tensor = TensorTrait::<FP16x16>::new(shape: array![1].span(), data: array![original_x_values.max_in_tensor()].span());\n",
    "        let mut x_range_tensor = TensorTrait::<FP16x16>::new(shape: array![1].span(), data: array![original_x_values.max_in_tensor() - original_x_values.min_in_tensor()].span());\n",
    "        let mut  diff = ((x_inputs - x_min_tensor));\n",
    "    x_inputs_normalized = ((x_inputs - x_min_tensor)) / x_range_tensor;\n",
    "    };\n",
    "    return x_inputs_normalized;\n",
    "}\n",
    "\n",
    "\n",
    "\n",
    "// rescales model predictions to standard format\n",
    "fn rescale_predictions(prediction_result:Tensor<FP16x16>, y_values: Tensor<FP16x16>) -> Tensor<FP16x16> {\n",
    "\n",
    "    let mut rescale_predictions =   TensorTrait::<FP16x16>::new(shape: array![1].span(), data: array![FixedTrait::new(10, false)].span());\n",
    "\n",
    "   let mut y_min_array= ArrayTrait::<FP16x16>::new();\n",
    "    let mut y_max_array= ArrayTrait::<FP16x16>::new();\n",
    "    let mut y_range_array= ArrayTrait::<FP16x16>::new();\n",
    "\n",
    "    let mut y_max = y_values.max_in_tensor();\n",
    "    let mut y_min = y_values.min_in_tensor();\n",
    "    let mut y_range = y_values.max_in_tensor() - y_values.min_in_tensor();\n",
    "    // convert to tensor format for ease of math operations\n",
    "    let y_min_tensor = TensorTrait::<FP16x16>::new(shape: array![1].span(), data: array![ y_min].span());\n",
    "    let y_max_tensor = TensorTrait::<FP16x16>::new(shape: array![1].span(), data: array![ y_max].span());\n",
    "    let y_range_tensor = TensorTrait::<FP16x16>::new(shape: array![1].span(), data: array![y_range].span());\n",
    "\n",
    "   \n",
    "    rescale_predictions = (prediction_result * y_range_tensor)+ y_min_tensor;\n",
    "    \n",
    "   \n",
    "    return rescale_predictions;\n",
    "}\n",
    "\n"
   ]
  },
  {
   "cell_type": "markdown",
   "id": "f728e6b9",
   "metadata": {},
   "source": [
    "## Data-preprocessing functions\n",
    "\n",
    "It is <b>recommended</b> to normalize data before passing it to the multiple linear regression model since we will be working with 16x16 fixed point numbers in cairo. This will prevent from having overflow issues as we compute the feature gradient values (some of the calculations involve squaring x values which can be relatively large if not normalized)"
   ]
  },
  {
   "cell_type": "code",
   "execution_count": null,
   "id": "9d23a514",
   "metadata": {},
   "outputs": [],
   "source": [
    "! touch multiple_linear_regression/src/data_preprocessing.cairo"
   ]
  },
  {
   "cell_type": "code",
   "execution_count": null,
   "id": "71453638",
   "metadata": {},
   "outputs": [],
   "source": [
    "\n",
    "%%writefile multiple_linear_regression/src/data_preprocessing.cairo\n",
    "\n",
    "use orion::operators::tensor::{\n",
    "    Tensor, TensorTrait, FP16x16Tensor, U32Tensor, U32TensorAdd, \n",
    "    FP16x16TensorSub, FP16x16TensorAdd, FP16x16TensorDiv, FP16x16TensorMul};\n",
    "use orion::numbers::{FP16x16,  FixedTrait};\n",
    "use multiple_linear_regresion::helper_functions::{get_tensor_data_by_row, transpose_tensor, calculate_mean , \n",
    "calculate_r_score, normalize_user_x_inputs, rescale_predictions};\n",
    "\n",
    "#[derive(Copy, Drop)]\n",
    "struct Dataset{\n",
    "    x_values: Tensor<FP16x16>,\n",
    "    y_values: Tensor<FP16x16>,\n",
    "}\n",
    "\n",
    "#[generate_trait]\n",
    "impl DataPreprocessing of DatasetTrait {\n",
    "    fn normalize_dataset(ref self:Dataset) -> Dataset{\n",
    "\n",
    "      let mut x_values = TensorTrait::<FP16x16>::new(array![1].span(),array![FixedTrait::new(0, false)].span());\n",
    "      let mut y_values = TensorTrait::<FP16x16>::new(array![1].span(),array![FixedTrait::new(0, false)].span());\n",
    "        // used for multiple_linear_regression_models\n",
    "        if self.x_values.shape.len()>1{\n",
    "        x_values = normalize_feature_data(self.x_values);\n",
    "        y_values = normalize_label_data(self.y_values);\n",
    "         }\n",
    "        // used for linear_regression_models\n",
    "        if self.x_values.shape.len()==1{\n",
    "        x_values = normalize_label_data(self.x_values);\n",
    "        y_values = normalize_label_data(self.y_values);\n",
    "         }\n",
    "\n",
    "        return Dataset{x_values, y_values};\n",
    "    }\n",
    "\n",
    "    \n",
    "\n",
    "\n",
    "}\n",
    "\n",
    "// normalizes 2D Tensor\n",
    "fn normalize_feature_data(tensor_data: Tensor<FP16x16>) -> Tensor<FP16x16> {\n",
    "    let mut x_min_array = ArrayTrait::<FP16x16>::new();\n",
    "    let mut x_max_array = ArrayTrait::<FP16x16>::new();\n",
    "    let mut x_range_array = ArrayTrait::<FP16x16>::new();\n",
    "    let mut normalized_array = ArrayTrait::<FP16x16>::new();\n",
    "    // transpose to change rows to be columns\n",
    "    let transposed_tensor =  tensor_data.transpose(axes: array![1, 0].span());\n",
    "    let tensor_shape = transposed_tensor.shape;\n",
    "    let tensor_row_len= *tensor_shape.at(0); // 13 \n",
    "    let tensor_column_len= *tensor_shape.at(1); //50\n",
    "    // loop and append max and min row values to corresponding  array\n",
    "    let mut i :u32  = 0;\n",
    "    loop{\n",
    "        if i >= tensor_row_len {\n",
    "            break();\n",
    "        }\n",
    "        let mut transposed_tensor_row = get_tensor_data_by_row(transposed_tensor, i);\n",
    "        x_max_array.append(transposed_tensor_row.max_in_tensor());\n",
    "        x_min_array.append(transposed_tensor_row.min_in_tensor());\n",
    "        x_range_array.append(transposed_tensor_row.max_in_tensor() - transposed_tensor_row.min_in_tensor());\n",
    "        i+=1;\n",
    "    };\n",
    "    // convert array to tensor format for ease of math operation\n",
    "    let mut x_min = TensorTrait::<FP16x16>::new(shape: array![1,tensor_row_len].span(), data: x_min_array.span());\n",
    "    let mut x_range = TensorTrait::<FP16x16>::new(shape: array![1,tensor_row_len].span(), data: x_range_array.span());\n",
    "    let normalized_tensor  = (tensor_data  - x_min) / x_range;\n",
    "    return normalized_tensor;\n",
    "}\n",
    "\n",
    "// normalizes 1D tensor\n",
    "fn normalize_label_data(tensor_data: Tensor<FP16x16>) -> Tensor<FP16x16> {\n",
    "    let mut normalized_array = ArrayTrait::<FP16x16>::new();\n",
    "    let mut range = tensor_data.max_in_tensor() - tensor_data.min_in_tensor();\n",
    "    // loop through tensor values normalizing and appending to new array\n",
    "    let mut i :u32  = 0;\n",
    "    loop{\n",
    "        if i >= tensor_data.data.len() {\n",
    "            break();\n",
    "        }\n",
    "        let mut diff = tensor_data.at(indices: array![i].span()) - tensor_data.min_in_tensor();\n",
    "        normalized_array.append(diff / range );\n",
    "        i+=1;\n",
    "    };\n",
    "    // convert normalized array values to tensor format\n",
    "    let mut normalized_tensor = TensorTrait::<FP16x16>::new(shape: array![tensor_data.data.len()].span(), data: normalized_array.span());\n",
    "    return normalized_tensor;\n",
    "}\n",
    "\n"
   ]
  },
  {
   "cell_type": "markdown",
   "id": "97a3109b",
   "metadata": {},
   "source": [
    "## Multiple Linear Regression Model\n",
    "\n",
    "Implement the Multiple Linear Regression functions"
   ]
  },
  {
   "cell_type": "code",
   "execution_count": null,
   "id": "253241d2",
   "metadata": {},
   "outputs": [],
   "source": [
    "os.makedirs(f'multiple_linear_regression/src/model/', exist_ok=True)"
   ]
  },
  {
   "cell_type": "code",
   "execution_count": null,
   "id": "820b7925",
   "metadata": {},
   "outputs": [],
   "source": [
    "! touch multiple_linear_regression/src/model/multiple_linear_regression_model.cairo"
   ]
  },
  {
   "cell_type": "code",
   "execution_count": null,
   "id": "9fe7721f",
   "metadata": {},
   "outputs": [],
   "source": [
    "%%writefile multiple_linear_regression/src/model/multiple_linear_regression_model.cairo\n",
    "\n",
    "use orion::operators::tensor::{\n",
    "    Tensor, TensorTrait, FP16x16Tensor, U32Tensor, U32TensorAdd, \n",
    "    FP16x16TensorSub, FP16x16TensorAdd, FP16x16TensorDiv, FP16x16TensorMul};\n",
    "use orion::numbers::{FP16x16,  FixedTrait};\n",
    "use multiple_linear_regresion::data_preprocessing::{Dataset, DatasetTrait};\n",
    "use multiple_linear_regresion::helper_functions::{get_tensor_data_by_row, transpose_tensor, calculate_mean , \n",
    "calculate_r_score, normalize_user_x_inputs, rescale_predictions};\n",
    "\n",
    "\n",
    "#[derive(Copy, Drop)]\n",
    "struct MultipleLinearRegressionModel {\n",
    "    coefficients: Tensor<FP16x16>\n",
    "\n",
    "}\n",
    "\n",
    "#[generate_trait]\n",
    "impl RegressionOperation of MultipleLinearRegressionModelTrait {\n",
    "\n",
    "    // reconstruct the y values using the computed gradients and x values\n",
    "fn predict (ref self:MultipleLinearRegressionModel, feature_inputs:Tensor<FP16x16>) ->Tensor<FP16x16> {\n",
    "        // random tensor value that we will replace\n",
    "        let mut prediction_result =   TensorTrait::<FP16x16>::new(shape: array![1].span(), data: array![FixedTrait::new(10, false)].span());\n",
    "        \n",
    "        let mut result = ArrayTrait::<FP16x16>::new();\n",
    "        // for multiple predictions\n",
    "        if feature_inputs.shape.len()>1{\n",
    "            let feature_values = add_bias_term(feature_inputs, 1);\n",
    "            let mut data_len:u32 = *feature_values.shape.at(0);        \n",
    "            let mut i:u32 = 0;\n",
    "            loop{\n",
    "            if i>=data_len{   \n",
    "                break();\n",
    "            }\n",
    "            let feature_row_values = get_tensor_data_by_row(feature_values, i);\n",
    "            let predicted_values = feature_row_values.matmul(@self.coefficients); \n",
    "            result.append(*predicted_values.data.at(0));\n",
    "            i+=1;\n",
    "            };\n",
    "            prediction_result =  TensorTrait::<FP16x16>::new(shape: array![ result.len()].span(), data: result.span());\n",
    "        }\n",
    "\n",
    "        // for single predictions \n",
    "        if feature_inputs.shape.len()==1 && self.coefficients.data.len()>1 {\n",
    "            let feature_values = add_bias_term(feature_inputs, 1);\n",
    "            prediction_result = feature_values.matmul(@self.coefficients); \n",
    "        }\n",
    "       \n",
    "    return prediction_result;\n",
    "}\n",
    "\n",
    "}\n",
    "\n",
    "fn MultipleLinearRegression(dataset: Dataset) -> MultipleLinearRegressionModel {\n",
    "    let x_values_tranposed = transpose_tensor(dataset.x_values);\n",
    "    let x_values_tranposed_with_bias= add_bias_term(x_values_tranposed,0);\n",
    "    let decorrelated_x_features = decorrelate_x_features(x_values_tranposed_with_bias);\n",
    "    let coefficients = compute_gradients( decorrelated_x_features, dataset.y_values, x_values_tranposed_with_bias);\n",
    " return MultipleLinearRegressionModel { coefficients};\n",
    "}\n",
    "\n",
    "//Adds bias term to features based on axis\n",
    "fn add_bias_term(x_feature: Tensor<FP16x16>, axis:u32) -> Tensor<FP16x16>{\n",
    "    let mut tensor_with_bias =   TensorTrait::<FP16x16>::new(shape: array![1].span(), data: array![FixedTrait::new(10, false)].span());\n",
    "    let mut result = ArrayTrait::<FP16x16>::new();\n",
    "    // check if feature data has multiple rows and columns\n",
    "    if x_feature.shape.len()>1 {\n",
    "        let mut index:u32=0;\n",
    "        if axis==1{\n",
    "            index=0;\n",
    "        }\n",
    "        else{\n",
    "            index=1;\n",
    "        }\n",
    "        let data_len= *x_feature.shape.at(index);  // 50\n",
    "        let mut i:u32 = 0;\n",
    "        loop{\n",
    "            if i >=data_len{\n",
    "                break();\n",
    "            }\n",
    "            result.append(FixedTrait::new(65536, false )); //65536=ONE in FP16x16, change accordingly  \n",
    "            i+=1;\n",
    "        };\n",
    "        if axis == 0{\n",
    "        let res_tensor = TensorTrait::new(shape: array![1,data_len].span(), data: result.span());\n",
    "        tensor_with_bias = TensorTrait::concat(tensors: array![x_feature, res_tensor].span(), axis: axis);}\n",
    "        else{\n",
    "        let res_tensor = TensorTrait::new(shape: array![data_len,1].span(), data: result.span());\n",
    "        tensor_with_bias = TensorTrait::concat(tensors: array![x_feature, res_tensor].span(), axis: axis);}\n",
    "        }\n",
    "    // check if feature data is 1D\n",
    "    if x_feature.shape.len()==1{\n",
    "        let mut j:u32 = 0;\n",
    "        loop{\n",
    "            if j>= x_feature.data.len() {\n",
    "                break();\n",
    "            }\n",
    "            result.append(*x_feature.data.at(j));\n",
    "            j+=1; \n",
    "        };\n",
    "        result.append(FixedTrait::new(65536, false )); //65536=ONE in FP16x16, change accordingly  \n",
    "        tensor_with_bias =  TensorTrait::<FP16x16>::new(shape: array![result.len()].span(), data: result.span());\n",
    "        }\n",
    "    return tensor_with_bias;\n",
    "}\n",
    "\n",
    "// decorrelates the feature data (*only the last tensor row of the decorelated feature data will be fully orthogonal)\n",
    "fn decorrelate_x_features(x_feature_data: Tensor<FP16x16>) -> Tensor<FP16x16> {\n",
    "    let mut input_tensor =  x_feature_data;\n",
    "\n",
    "    let mut i:u32 = 0;\n",
    "    loop {\n",
    "        if i >= *x_feature_data.shape.at(0) {\n",
    "            break();\n",
    "        }\n",
    "        let mut placeholder = ArrayTrait::<FP16x16>::new();\n",
    "        let mut feature_row_values  = get_tensor_data_by_row(input_tensor, i); \n",
    "        let mut feature_squared = feature_row_values.matmul(@feature_row_values);\n",
    "        // avoiding division by zero errors\n",
    "        if *feature_squared.data.at(0) == FixedTrait::new(0, false) {\n",
    "            feature_squared = TensorTrait::<FP16x16>::new(shape: array![1].span(), data: array![FixedTrait::new(10, false)].span());\n",
    "        }\n",
    "        // loop throgh remaining tensor data and remove the individual tensor factors from one another \n",
    "        let mut j:u32 = i+ 1;\n",
    "        loop {\n",
    "            if j >= *x_feature_data.shape.at(0)  {\n",
    "                break();\n",
    "            }\n",
    "            let mut remaining_tensor_values = get_tensor_data_by_row(input_tensor, j); \n",
    "            let feature_cross_product = feature_row_values.matmul(@remaining_tensor_values); \n",
    "            let feature_gradients = feature_cross_product / feature_squared; \n",
    "            remaining_tensor_values = remaining_tensor_values - (feature_row_values * feature_gradients);  //remove the feature factors from one another\n",
    "            // loop and append the modifieed remaining_tensor_values (after the corelated factor has been removed) to placeholder array\n",
    "            let mut k:u32 = 0;\n",
    "            loop {\n",
    "            if k >=  remaining_tensor_values.data.len() {\n",
    "                break();\n",
    "            }\n",
    "            placeholder.append(*remaining_tensor_values.data.at(k));\n",
    "            k+= 1;\n",
    "            };\n",
    "\n",
    "            j += 1;\n",
    "            };\n",
    "            // convert placeholder array to tensor format and update the original tensor with the new modified decorrelated tensor row values\n",
    "            let mut decorrelated_tensor = TensorTrait::new(shape: array![*x_feature_data.shape.at(0)-1-i, *x_feature_data.shape.at(1)].span(), data: placeholder.span());\n",
    "            let mut original_tensor = input_tensor.slice(starts: array![0, 0].span(), ends: array![i+1, *x_feature_data.shape.at(1)].span(), axes: Option::None(()), steps: Option::Some(array![1, 1].span()));\n",
    "            input_tensor = TensorTrait::concat(tensors: array![original_tensor, decorrelated_tensor].span(), axis: 0);\n",
    "            i +=1;\n",
    "        };\n",
    "        return input_tensor;\n",
    "}\n",
    "\n",
    "// computes the corresponding MLR gradient using decorrelated feature\n",
    "fn compute_gradients( decorrelated_x_features: Tensor<FP16x16>, y_values: Tensor<FP16x16>, original_x_tensor_values: Tensor<FP16x16>) -> Tensor<FP16x16> {\n",
    "    let mut gradient_values_flipped =   TensorTrait::<FP16x16>::new(shape: array![1].span(), data: array![FixedTrait::new(10, false)].span());\n",
    "\n",
    "    let mut result = ArrayTrait::<FP16x16>::new();\n",
    "    let mut tensor_y_vals =  y_values;\n",
    "    let mut i:u32 = *decorrelated_x_features.shape.at(0);\n",
    "    // loop through Decorrelated_x_features starting from the fully orthogonlised last tensor row value\n",
    "    loop {\n",
    "        if i <= 0 {\n",
    "            break();\n",
    "        }\n",
    "        let index_val = i-1;\n",
    "        let mut decorelated_feature_row_values = get_tensor_data_by_row(decorrelated_x_features, index_val); // 50 vals\n",
    "        let mut decorelated_features_squared = decorelated_feature_row_values.matmul(@decorelated_feature_row_values);\n",
    "        let mut feature_label_cross_product = tensor_y_vals.matmul(@decorelated_feature_row_values); // multiply the tensors\n",
    "        // avoiding division by zero errors\n",
    "        if *decorelated_features_squared.data.at(0) == FixedTrait::new(0, false) {\n",
    "            decorelated_features_squared = TensorTrait::<FP16x16>::new(shape: array![1].span(), data: array![FixedTrait::new(10, false)].span());\n",
    "        }\n",
    "        // computing the feature gradient values using the y values and decorrelated x features and appending to array\n",
    "        let mut single_gradient_value = feature_label_cross_product / decorelated_features_squared; // devide the summed value by each other\n",
    "        result.append(*single_gradient_value.data.at(0));\n",
    "        // remove the assosciated feature gradient value away from y values\n",
    "        let mut original_x_tensor_row_values = get_tensor_data_by_row(original_x_tensor_values, index_val);\n",
    "        tensor_y_vals = tensor_y_vals -(original_x_tensor_row_values * single_gradient_value);  //remove the first feature from second feature values\n",
    "        i -=1;\n",
    "        };\n",
    "    // convert the gradient array to tensor format\n",
    "    let final_gradients = TensorTrait::new(shape: array![*decorrelated_x_features.shape.at(0)].span(), data: result.span());\n",
    "\n",
    "    let mut reverse_grad_array = ArrayTrait::<FP16x16>::new();\n",
    "    let mut data_len:u32 = final_gradients.data.len();\n",
    "    loop{\n",
    "        if data_len<=0 {\n",
    "            break();\n",
    "        }\n",
    "        let temp_val = data_len-1;\n",
    "        reverse_grad_array.append(*final_gradients.data.at(temp_val));\n",
    "        data_len-=1; \n",
    "    };\n",
    "    // convert gradient values to tensor format\n",
    "    let gradient_values_flipped =  TensorTrait::<FP16x16>::new(shape: array![reverse_grad_array.len()].span(), data: reverse_grad_array.span());\n",
    "        \n",
    "    return gradient_values_flipped;\n",
    "}\n",
    "\n",
    "\n",
    "\n",
    "\n",
    "\n",
    " "
   ]
  },
  {
   "cell_type": "code",
   "execution_count": null,
   "id": "d269825b",
   "metadata": {},
   "outputs": [],
   "source": [
    "! touch multiple_linear_regression/src/model.cairo"
   ]
  },
  {
   "cell_type": "code",
   "execution_count": null,
   "id": "b762a212",
   "metadata": {},
   "outputs": [],
   "source": [
    "%%writefile multiple_linear_regression/src/model.cairo\n",
    "mod multiple_linear_regression_model;"
   ]
  },
  {
   "cell_type": "markdown",
   "id": "f700ee3a",
   "metadata": {},
   "source": [
    "## Running tests on model\n",
    "\n",
    "Running some checks to ensure the model is performing as expected. Some of the checks involve:\n",
    "- data normalizations checks\n",
    "- tensor shape/dimension check\n",
    "- coefficient value and dimension checks  \n",
    "- model accuracy deviance checks"
   ]
  },
  {
   "cell_type": "code",
   "execution_count": null,
   "id": "6df3b8c5",
   "metadata": {},
   "outputs": [],
   "source": [
    "! touch multiple_linear_regression/src/test.cairo"
   ]
  },
  {
   "cell_type": "code",
   "execution_count": null,
   "id": "6ccda27e",
   "metadata": {},
   "outputs": [],
   "source": [
    "%%writefile multiple_linear_regression/src/test.cairo\n",
    "\n",
    "// use traits::Into;\n",
    "use debug::PrintTrait;\n",
    "use array::{ArrayTrait, SpanTrait};\n",
    "\n",
    "\n",
    "use multiple_linear_regresion::datasets::boston_data::boston_x_features::boston_x_features;\n",
    "use multiple_linear_regresion::datasets::boston_data::boston_y_labels::boston_y_labels;\n",
    "use multiple_linear_regresion::datasets::user_inputs_data::user_inputs_boston_data::user_inputs_boston_data;\n",
    "\n",
    "use orion::numbers::{FP16x16,  FixedTrait};\n",
    "\n",
    "use multiple_linear_regresion::model::multiple_linear_regression_model::{\n",
    "     MultipleLinearRegressionModel, MultipleLinearRegression, MultipleLinearRegressionModelTrait\n",
    "};\n",
    "use multiple_linear_regresion::data_preprocessing::{Dataset, DatasetTrait};\n",
    "use multiple_linear_regresion::helper_functions::{get_tensor_data_by_row, transpose_tensor, calculate_mean , \n",
    "calculate_r_score, normalize_user_x_inputs, rescale_predictions};\n",
    "\n",
    "use orion::operators::tensor::{\n",
    "    Tensor, TensorTrait, FP16x16Tensor, U32Tensor, U32TensorAdd, \n",
    "    FP16x16TensorSub, FP16x16TensorAdd, FP16x16TensorDiv, FP16x16TensorMul};\n",
    "\n",
    "#[test]\n",
    "#[available_gas(99999999999999999)]\n",
    "fn multiple_linear_regression_test() {\n",
    "\n",
    "// -------------------------------------------------------------------Boston dataset tests---------------------------------------------------------------------------------------------\n",
    "\n",
    "let mut main_x_vals = boston_x_features();\n",
    "let mut main_y_vals = boston_y_labels();\n",
    "let mut dataset = Dataset{x_values: main_x_vals,y_values:main_y_vals};\n",
    "let mut normalized_dataset = dataset.normalize_dataset();\n",
    "let mut model  = MultipleLinearRegression(normalized_dataset);\n",
    "let mut model_coefficients = model.coefficients;\n",
    "let mut reconstructed_ys = model.predict (normalized_dataset.x_values);\n",
    "let mut r_squared_score = calculate_r_score(normalized_dataset.y_values,reconstructed_ys);\n",
    "r_squared_score.print(); \n",
    "\n",
    "// checking if data has been normalized correctly\n",
    "assert(normalized_dataset.x_values.max_in_tensor() <= FixedTrait::new(65536, false), 'normalized x not between 0-1');\n",
    "assert(normalized_dataset.x_values.min_in_tensor() >= FixedTrait::new(0, false), 'normalized x not between 0-1');\n",
    "assert(normalized_dataset.y_values.max_in_tensor() <= FixedTrait::new(65536, false), 'normalized y not between 0-1');\n",
    "assert(normalized_dataset.x_values.min_in_tensor() >= FixedTrait::new(0, false), 'normalized y not between 0-1');\n",
    "// performing checks on the shape of normalized data\n",
    "assert(normalized_dataset.x_values.data.len()== main_x_vals.data.len() && \n",
    "normalized_dataset.y_values.data.len()== main_y_vals.data.len() , 'normalized data shape mismatch');\n",
    "// performing checks on shape on coefficient values (gradient vals + bias)\n",
    "assert(model.coefficients.data.len() == *main_x_vals.shape.at(1)+1, 'coefficient data shape mismatch');\n",
    "// model accuracy deviance checks\n",
    "assert(r_squared_score >= FixedTrait::new(55699, false), 'Boston model acc. less than 84%');\n",
    "\n",
    "\n",
    "// boston user inputed house valuation predictions\n",
    "let user_input = user_inputs_boston_data();\n",
    "let mut normalized_user_x_inputs = normalize_user_x_inputs(user_input, main_x_vals) ;\n",
    "let mut prediction_result  = model.predict (normalized_user_x_inputs); \n",
    "let mut rescale_prediction  = rescale_predictions(prediction_result, main_y_vals);\n",
    "(*rescale_prediction.data.at(0)).print(); \n",
    "\n",
    "\n",
    "}\n",
    "\n"
   ]
  }
 ],
 "metadata": {
  "kernelspec": {
   "display_name": "Python 3 (ipykernel)",
   "language": "python",
   "name": "python3"
  },
  "language_info": {
   "codemirror_mode": {
    "name": "ipython",
    "version": 3
   },
   "file_extension": ".py",
   "mimetype": "text/x-python",
   "name": "python",
   "nbconvert_exporter": "python",
   "pygments_lexer": "ipython3",
   "version": "3.9.13"
  }
 },
 "nbformat": 4,
 "nbformat_minor": 5
}
